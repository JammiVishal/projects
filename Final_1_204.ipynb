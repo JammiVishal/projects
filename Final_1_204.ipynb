{
  "nbformat": 4,
  "nbformat_minor": 0,
  "metadata": {
    "colab": {
      "name": "Final.1.204.ipynb",
      "provenance": [],
      "collapsed_sections": []
    },
    "kernelspec": {
      "name": "python3",
      "display_name": "Python 3"
    },
    "language_info": {
      "name": "python"
    }
  },
  "cells": [
    {
      "cell_type": "code",
      "execution_count": null,
      "metadata": {
        "colab": {
          "base_uri": "https://localhost:8080/"
        },
        "id": "Q6xXBTw1JIvc",
        "outputId": "943098c5-a78c-4192-a291-13bfaa47f269"
      },
      "outputs": [
        {
          "output_type": "stream",
          "name": "stdout",
          "text": [
            "Hope you are doing good!!!\n",
            "Enter your name:kunal\n",
            "Enter your weight in KG :456\n",
            "Enter your height in meters :220\n",
            "your bmi is  0.009421487603305785\n"
          ]
        }
      ],
      "source": [
        "import datetime\n",
        "\n",
        "def wishMe(name):\n",
        "  hour = int(datetime.datetime.now().hour)\n",
        "  if hour>=0 and hour<12:\n",
        "       print(\"Good Morning\",name)\n",
        "\n",
        "  elif hour>=12 and hour<18:\n",
        "        print(\"Good Afternoon\",name)\n",
        "\n",
        "  else:\n",
        "        print(\"Good Night\")\n",
        "      \n",
        "wishMe=(\"Kushal\")\n",
        "print (\"Hope you are doing good!!!\")\n",
        "\n",
        "\n",
        "# finding your BMI\n",
        "name = input(\"Enter your name:\")\n",
        "weight = float(input(\"Enter your weight in KG :\"))\n",
        "height = float(input(\"Enter your height in meters :\"))\n",
        "bmi = weight/(height**2)\n",
        "print(\"your bmi is \",bmi)\n",
        "\n",
        "\n"
      ]
    },
    {
      "cell_type": "code",
      "source": [
        ""
      ],
      "metadata": {
        "id": "1R8EMa4jpqI3"
      },
      "execution_count": null,
      "outputs": []
    }
  ]
}